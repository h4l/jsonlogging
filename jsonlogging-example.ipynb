{
 "metadata": {
  "name": "",
  "signature": "sha256:6abef924a4b9aa761f4bde911d5f38072fb328e4bdbe9d56c1be697f9e56f5fc"
 },
 "nbformat": 3,
 "nbformat_minor": 0,
 "worksheets": [
  {
   "cells": [
    {
     "cell_type": "markdown",
     "metadata": {},
     "source": [
      "# Logging in JSON from Python using `jsonlogging`\n",
      "\n",
      "This notebook demonstrates how to produce structured log output in Python by using [`jsonlogging`](https://github.com/h4l/jsonlogging) to format your log messages as [JSON](http://json.org/).\n",
      "\n",
      "In Python's logging system we have *loggers* that receive log messages from code. *Loggers* have 0 or more *handlers* which do something with log messages, for example writing them to a log file or sending them across the network to be stored elsewhere.\n",
      "\n",
      "Firstly we'll create a *logger* to experiment with. It'll have a single *handler* which sends messages it receives to stdout so that we can see the output."
     ]
    },
    {
     "cell_type": "code",
     "collapsed": false,
     "input": [
      "import logging, sys\n",
      "logger = logging.getLogger(\"json-logging-test\")  # Obtain a logger to play with\n",
      "logger.propagate = False  # Don't send our test messages to any other logger\n",
      "logger.setLevel(logging.INFO)  # Ensure our INFO level messages are displayed\n",
      "\n",
      "# Create a handler to handle our log messages\n",
      "handler = logging.StreamHandler(stream=sys.stdout)\n",
      "\n",
      "# Normally you'd use addHandler(), but this would cause handlers\n",
      "# to accumulate each time this notebook was re-executed.\n",
      "logger.handlers = [handler]  # Replace any existing handlers with our stdout handler"
     ],
     "language": "python",
     "metadata": {},
     "outputs": [],
     "prompt_number": 1
    },
    {
     "cell_type": "markdown",
     "metadata": {},
     "source": [
      "Before any special configuration, our messages will be logged as plain text:"
     ]
    },
    {
     "cell_type": "code",
     "collapsed": false,
     "input": [
      "logger.info(\"This message will be logged as plain text.\")"
     ],
     "language": "python",
     "metadata": {},
     "outputs": [
      {
       "output_type": "stream",
       "stream": "stdout",
       "text": [
        "This message will be logged as plain text.\n"
       ]
      }
     ],
     "prompt_number": 2
    },
    {
     "cell_type": "markdown",
     "metadata": {},
     "source": [
      "## Enabling JSON log output\n",
      "\n",
      "*Handlers* use *formatters* to serialise log messages into a sutable format to send out. Our handler's current formatter is just spitting out the log message as-is in plain text.\n",
      "\n",
      "To get our log messages as JSON we need to give our handler a formatter which will convert log messages into JSON. `jsonlogging` provides such a formatter."
     ]
    },
    {
     "cell_type": "code",
     "collapsed": false,
     "input": [
      "import jsonlogging\n",
      "# Create a JSON log formatter with default settings\n",
      "json_formatter = jsonlogging.get_json_formatter()\n",
      "\n",
      "# Give our logger's handler the JSON formatter. \n",
      "handler.setFormatter(json_formatter)"
     ],
     "language": "python",
     "metadata": {},
     "outputs": [],
     "prompt_number": 3
    },
    {
     "cell_type": "markdown",
     "metadata": {},
     "source": [
      "From now on, messages received by our handler (via our logger) will be formatted in JSON:"
     ]
    },
    {
     "cell_type": "code",
     "collapsed": false,
     "input": [
      "logger.info(\"This message will be logged as JSON.\")"
     ],
     "language": "python",
     "metadata": {},
     "outputs": [
      {
       "output_type": "stream",
       "stream": "stdout",
       "text": [
        "{\"message\":{\"formatted\":\"This message will be logged as JSON.\",\"raw\":\"This message will be logged as JSON.\",\"args\":[]},\"name\":\"json-logging-test\",\"level\":\"INFO\",\"time\":\"2014-10-20T22:58:27.689849+00:00\",\"location\":{\"file\":\"<ipython-input-4-c32e7ba19125>\",\"line\":1,\"function\":\"<module>\"},\"process\":{\"process_id\":64724,\"process_name\":\"MainProcess\"},\"thread\":{\"id\":140735226938128,\"name\":\"MainThread\"}}\n"
       ]
      }
     ],
     "prompt_number": 4
    },
    {
     "cell_type": "markdown",
     "metadata": {},
     "source": [
      "### Customising the JSON encoding\n",
      "\n",
      "Our JSON formatter uses the standard `json` library to produce JSON. You can provide your own `json.JSONEncoder` object to customise the JSON text encoding in any way you see fit.\n",
      "\n",
      "Let's make the JSON output easier to read by indenting it."
     ]
    },
    {
     "cell_type": "code",
     "collapsed": false,
     "input": [
      "import json\n",
      "# Create a JSONEncoder which indents with 4 spaces per level\n",
      "encoder = json.JSONEncoder(indent=4)\n",
      "# Create a new JSON formatter using this encoder\n",
      "json_formatter = jsonlogging.get_json_formatter(json_encoder=encoder)\n",
      "# Set the new formatter on our handler\n",
      "handler.setFormatter(json_formatter)\n",
      "# Log another message to test.\n",
      "logger.info(\"This message will be logged as easy-to-read indented JSON, indented with %(indent)d spaces.\", dict(indent=4))"
     ],
     "language": "python",
     "metadata": {},
     "outputs": [
      {
       "output_type": "stream",
       "stream": "stdout",
       "text": [
        "{\n",
        "    \"message\": {\n",
        "        \"formatted\": \"This message will be logged as easy-to-read indented JSON, indented with 4 spaces.\", \n",
        "        \"raw\": \"This message will be logged as easy-to-read indented JSON, indented with %(indent)d spaces.\", \n",
        "        \"args\": {\n",
        "            \"indent\": 4\n",
        "        }\n",
        "    }, \n",
        "    \"name\": \"json-logging-test\", \n",
        "    \"level\": \"INFO\", \n",
        "    \"time\": \"2014-10-20T22:58:27.711635+00:00\", \n",
        "    \"location\": {\n",
        "        \"file\": \"<ipython-input-5-de0787a7f7b9>\", \n",
        "        \"line\": 9, \n",
        "        \"function\": \"<module>\"\n",
        "    }, \n",
        "    \"process\": {\n",
        "        \"process_id\": 64724, \n",
        "        \"process_name\": \"MainProcess\"\n",
        "    }, \n",
        "    \"thread\": {\n",
        "        \"id\": 140735226938128, \n",
        "        \"name\": \"MainThread\"\n",
        "    }\n",
        "}\n"
       ]
      }
     ],
     "prompt_number": 5
    },
    {
     "cell_type": "markdown",
     "metadata": {},
     "source": [
      "## Logging Exceptions\n",
      "\n",
      "As well as normal log messages, built in support is provided for logging exceptions as JSON:"
     ]
    },
    {
     "cell_type": "code",
     "collapsed": false,
     "input": [
      "index = 10\n",
      "try:\n",
      "    [\"a\", \"b\", \"c\"][index]  # Oops! index out of bounds...\n",
      "except:\n",
      "    logger.exception(\"Ooops, I dun goofd! index: %s\", index)"
     ],
     "language": "python",
     "metadata": {},
     "outputs": [
      {
       "output_type": "stream",
       "stream": "stdout",
       "text": [
        "{\n",
        "    \"message\": {\n",
        "        \"formatted\": \"Ooops, I dun goofd! index: 10\", \n",
        "        \"raw\": \"Ooops, I dun goofd! index: %s\", \n",
        "        \"args\": [\n",
        "            10\n",
        "        ]\n",
        "    }, \n",
        "    \"exception\": {\n",
        "        \"type\": \"exceptions.IndexError\", \n",
        "        \"message\": \"list index out of range\", \n",
        "        \"traceback\": [\n",
        "            {\n",
        "                \"file\": \"<ipython-input-6-679e48a454a0>\", \n",
        "                \"line\": 3, \n",
        "                \"function\": \"<module>\", \n",
        "                \"code\": \"[\\\"a\\\", \\\"b\\\", \\\"c\\\"][index]  # Oops! index out of bounds...\"\n",
        "            }\n",
        "        ]\n",
        "    }, \n",
        "    \"name\": \"json-logging-test\", \n",
        "    \"level\": \"ERROR\", \n",
        "    \"time\": \"2014-10-20T22:58:27.722729+00:00\", \n",
        "    \"location\": {\n",
        "        \"file\": \"<ipython-input-6-679e48a454a0>\", \n",
        "        \"line\": 5, \n",
        "        \"function\": \"<module>\"\n",
        "    }, \n",
        "    \"process\": {\n",
        "        \"process_id\": 64724, \n",
        "        \"process_name\": \"MainProcess\"\n",
        "    }, \n",
        "    \"thread\": {\n",
        "        \"id\": 140735226938128, \n",
        "        \"name\": \"MainThread\"\n",
        "    }\n",
        "}\n"
       ]
      }
     ],
     "prompt_number": 6
    },
    {
     "cell_type": "markdown",
     "metadata": {},
     "source": [
      "## Customising JSON content\n",
      "\n",
      "We've already seen that we can provide a `json.JSONEncoder` to customise how the JSON text is produced. We can use a similar process to control the data that our JSON output contains.\n",
      "\n",
      "JSON formatters use a *[log] record adapter* to convert log records into a JSON value, sutable for serialisation by a `json.JSONEncoder`. `jsonlogging` provides a single implementation: `ValueRecordAdapter` which uses `Value` objects to extract JSON values from a log record.\n",
      "\n",
      "`Value` implementations are provided for common log record attributes, such as the message, the date and exception information. The special `OrderedObjectValue` allows several values to be combined with names, to produce a template for a JSON object.\n",
      "\n",
      "Let's define a simpler JSON log format:"
     ]
    },
    {
     "cell_type": "code",
     "collapsed": false,
     "input": [
      "from jsonlogging.recordadapter import ValueRecordAdapter\n",
      "from jsonlogging.values import OrderedObjectValue, RecordValue, DateRecordValue\n",
      "template = OrderedObjectValue([\n",
      "    (\"msg\", RecordValue(\"msg\")),\n",
      "    (\"time\", DateRecordValue()),\n",
      "    (\"pid\", RecordValue(\"process\"))\n",
      "])\n",
      "\n",
      "record_adapter = ValueRecordAdapter(template)\n",
      "json_formatter = jsonlogging.get_json_formatter(json_encoder=encoder, record_adapter=record_adapter)\n",
      "handler.setFormatter(json_formatter)\n",
      "\n",
      "logger.info(\"This log entry use a simpler JSON format\")"
     ],
     "language": "python",
     "metadata": {},
     "outputs": [
      {
       "output_type": "stream",
       "stream": "stdout",
       "text": [
        "{\n",
        "    \"msg\": \"This log entry use a simpler JSON format\", \n",
        "    \"time\": \"2014-10-20T22:58:27.747999+00:00\", \n",
        "    \"pid\": 64724\n",
        "}\n"
       ]
      }
     ],
     "prompt_number": 7
    },
    {
     "cell_type": "markdown",
     "metadata": {},
     "source": [
      "### Custom `Value`s\n",
      "\n",
      "You can of course define your own Value objects to insert your own data into the JSON template."
     ]
    },
    {
     "cell_type": "code",
     "collapsed": false,
     "input": [
      "class TypeValue(object):\n",
      "    \"\"\"\n",
      "    A useless Value implementation which provides the name of the type of a log record.\n",
      "    \"\"\"\n",
      "    def render(self, record):\n",
      "        return type(record).__name__\n",
      "\n",
      "template = OrderedObjectValue([\n",
      "    (\"msg\", RecordValue(\"msg\")),\n",
      "    (\"type\", TypeValue())\n",
      "])\n",
      "\n",
      "record_adapter = ValueRecordAdapter(template)\n",
      "json_formatter = jsonlogging.get_json_formatter(json_encoder=encoder, record_adapter=record_adapter)\n",
      "handler.setFormatter(json_formatter)\n",
      "\n",
      "logger.info(\"This log entry will contain my log record's type name\")"
     ],
     "language": "python",
     "metadata": {},
     "outputs": [
      {
       "output_type": "stream",
       "stream": "stdout",
       "text": [
        "{\n",
        "    \"msg\": \"This log entry will contain my log record's type name\", \n",
        "    \"type\": \"LogRecord\"\n",
        "}\n"
       ]
      }
     ],
     "prompt_number": 8
    },
    {
     "cell_type": "code",
     "collapsed": false,
     "input": [],
     "language": "python",
     "metadata": {},
     "outputs": [],
     "prompt_number": 8
    }
   ],
   "metadata": {}
  }
 ]
}